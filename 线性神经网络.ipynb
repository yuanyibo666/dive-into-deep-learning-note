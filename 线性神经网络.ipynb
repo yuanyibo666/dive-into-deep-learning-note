{
  "nbformat": 4,
  "nbformat_minor": 0,
  "metadata": {
    "colab": {
      "name": "线性神经网络.ipynb",
      "provenance": [],
      "collapsed_sections": [],
      "mount_file_id": "1p0TM7WP7basehPd2l8oUdWP-2QWsdLoC",
      "authorship_tag": "ABX9TyPtQgeL3WAQr1Kk+bUwt8UN",
      "include_colab_link": true
    },
    "kernelspec": {
      "name": "python3",
      "display_name": "Python 3"
    },
    "language_info": {
      "name": "python"
    }
  },
  "cells": [
    {
      "cell_type": "markdown",
      "metadata": {
        "id": "view-in-github",
        "colab_type": "text"
      },
      "source": [
        "<a href=\"https://colab.research.google.com/github/yuanyibo666/dive-into-deep-learning-note/blob/main/%E7%BA%BF%E6%80%A7%E7%A5%9E%E7%BB%8F%E7%BD%91%E7%BB%9C.ipynb\" target=\"_parent\"><img src=\"https://colab.research.google.com/assets/colab-badge.svg\" alt=\"Open In Colab\"/></a>"
      ]
    },
    {
      "cell_type": "markdown",
      "source": [
        "#首先导入需要的模块"
      ],
      "metadata": {
        "id": "J7FpUyHnS4IS"
      }
    },
    {
      "cell_type": "code",
      "execution_count": 1,
      "metadata": {
        "id": "dCd1_-yb0_xy"
      },
      "outputs": [],
      "source": [
        "import time\n",
        "import math\n",
        "import numpy as np\n",
        "import torch\n",
        "import random\n",
        "import matplotlib.pyplot as plt"
      ]
    },
    {
      "cell_type": "markdown",
      "source": [
        "#定义一个计时器模块"
      ],
      "metadata": {
        "id": "wcQO2Kr99APY"
      }
    },
    {
      "cell_type": "code",
      "source": [
        "class time:\n",
        "  def __inite__(self):\n",
        "    self.time = []\n",
        "    self.start()\n",
        "  def start(self):\n",
        "    \"\"\"启动计时器\"\"\"\n",
        "    self.tok = time.time()\n",
        "  def stop(self):\n",
        "    \"\"\"停止计时器并将时间记录在列表中\"\"\"\n",
        "    self.times.append(time.time() - self.tik)\n",
        "    return self.times[-1]\n",
        "\n",
        "  def avg(self):\n",
        "    \"\"\"返回平均时间\"\"\"\n",
        "    return sum(self.times) / len(self.times)\n",
        "\n",
        "  def sum(self):\n",
        "    \"\"\"返回时间总和\"\"\"\n",
        "    return sum(self.times)\n",
        "\n",
        "  def cumsum(self):\n",
        "    \"\"\"返回累计时间\"\"\"\n",
        "    return np.array(self.times).cumsum().tolist()"
      ],
      "metadata": {
        "id": "M4VanxQeU3EM"
      },
      "execution_count": 8,
      "outputs": []
    },
    {
      "cell_type": "markdown",
      "source": [
        "#首先生成数据集\n"
      ],
      "metadata": {
        "id": "rxyojMZi5T7u"
      }
    },
    {
      "cell_type": "code",
      "source": [
        "def synthetic_data(w, b, num_examples):\n",
        "    \"\"\"\n",
        "    用来生成数据集\n",
        "    :param w: 真实的w\n",
        "    :param b: 真实的b\n",
        "    :param num_examples: 数据集的大小\n",
        "    :return: 返回生成的x,y\n",
        "    \"\"\"\n",
        "    #x服从正态分布\n",
        "    x = np.random.normal(0,1,(num_examples,len(w)))\n",
        "    y = np.dot(x,w) + b\n",
        "    return x,y.reshape(-1,1)\n",
        "\n",
        "true_w = np.array([2,-3.4])\n",
        "true_b = 4.2\n",
        "#生成1000个样本\n",
        "features, labels = synthetic_data(true_w, true_b, 1000)"
      ],
      "metadata": {
        "id": "T5xaFpGk-mC7"
      },
      "execution_count": 4,
      "outputs": []
    },
    {
      "cell_type": "markdown",
      "source": [
        "#读取小批量的数据"
      ],
      "metadata": {
        "id": "IL0rYgIgQNO-"
      }
    },
    {
      "cell_type": "code",
      "source": [
        "def data_iter(batch_size,features,lables):\n",
        "    #生成随机的数组\n",
        "    num_examples = len(features)\n",
        "    indices = list(range(num_examples))\n",
        "    random.shuffle(indices)\n",
        "    for i in range(0,num_examples,batch_size):\n",
        "        batch_indices = torch.tensor(\n",
        "            indices[i: min(i + batch_size, num_examples)])\n",
        "        yield features[batch_indices], labels[batch_indices]"
      ],
      "metadata": {
        "id": "l9fZwZ6-Qzab"
      },
      "execution_count": 5,
      "outputs": []
    },
    {
      "cell_type": "markdown",
      "source": [
        "#初始化参数"
      ],
      "metadata": {
        "id": "fidtepAtT90-"
      }
    },
    {
      "cell_type": "code",
      "source": [
        "w = torch.normal(0,0.01,size=(2,1), requires_grad=True)\n",
        "b = torch.zeros(1, requires_grad=True)"
      ],
      "metadata": {
        "id": "5lS40jhsUAmD"
      },
      "execution_count": 6,
      "outputs": []
    },
    {
      "cell_type": "markdown",
      "source": [
        "#定义线性回归模型"
      ],
      "metadata": {
        "id": "rXMAZRgSVfG2"
      }
    },
    {
      "cell_type": "code",
      "source": [
        "def linreg(x,w,b,):\n",
        "    return torch.matmul(x,w) + b\n",
        "print(\n",
        "    \n",
        ")"
      ],
      "metadata": {
        "id": "P2t6KsAJViFd"
      },
      "execution_count": 7,
      "outputs": []
    },
    {
      "cell_type": "markdown",
      "source": [
        "#定义损失函数"
      ],
      "metadata": {
        "id": "Rj9YUsBlWFGR"
      }
    },
    {
      "cell_type": "code",
      "source": [
        "def squared_loss(y_hat, y):  \n",
        "    \"\"\"均方损失\"\"\"\n",
        "    return (y_hat - y.reshape(y_hat.shape)) ** 2 / 2"
      ],
      "metadata": {
        "id": "MHvcluuwWHda"
      },
      "execution_count": 9,
      "outputs": []
    },
    {
      "cell_type": "markdown",
      "source": [
        "#定义优化算法"
      ],
      "metadata": {
        "id": "xnZbN5Y7WWq8"
      }
    },
    {
      "cell_type": "code",
      "source": [
        "def sgd(params, lr, batch_size):\n",
        "    \"\"\"小批量随机梯度下降\"\"\"\n",
        "    with torch.no_grad():\n",
        "        for param in params:\n",
        "            param -= lr * param.grad / batch_size\n",
        "            param.grad.zero_()"
      ],
      "metadata": {
        "id": "467cM2YgWZRt"
      },
      "execution_count": 10,
      "outputs": []
    },
    {
      "cell_type": "markdown",
      "source": [
        "#训练"
      ],
      "metadata": {
        "id": "DYfgTyVMZGj3"
      }
    },
    {
      "cell_type": "code",
      "source": [
        "#开始训练\n",
        "lr = 0.03\n",
        "num_epochs = 10\n",
        "b_size = 10\n",
        "#直接给函数起个别名，震惊我一整天\n",
        "net = linreg\n",
        "loss = squared_loss\n",
        "for each_epochs in range(num_epochs):\n",
        "    for x,y in data_iter(b_size,features,labels):\n",
        "        #计算损失函数\n",
        "        l = loss(net(x,w,b),y)\n",
        "        l.sum().backward()\n",
        "        sgd([w, b], lr, b_size)\n",
        "    with torch.no_grad():\n",
        "        train_l = loss(net(features, w, b), labels)\n",
        "        print(\"in epoch\",each_epochs,\"w = \",w)\n",
        "print(f'w的估计误差: {true_w - w.reshape(true_w.shape)}')\n",
        "print(f'b的估计误差: {true_b - b}')\n"
      ],
      "metadata": {
        "colab": {
          "base_uri": "https://localhost:8080/",
          "height": 314
        },
        "id": "FIKaT8xOZTK5",
        "outputId": "304d946e-9e56-4e24-a0f1-a556be4ee786"
      },
      "execution_count": 11,
      "outputs": [
        {
          "output_type": "error",
          "ename": "TypeError",
          "evalue": "ignored",
          "traceback": [
            "\u001b[0;31m---------------------------------------------------------------------------\u001b[0m",
            "\u001b[0;31mTypeError\u001b[0m                                 Traceback (most recent call last)",
            "\u001b[0;32m<ipython-input-11-4fab9d88e742>\u001b[0m in \u001b[0;36m<module>\u001b[0;34m()\u001b[0m\n\u001b[1;32m      9\u001b[0m     \u001b[0;32mfor\u001b[0m \u001b[0mx\u001b[0m\u001b[0;34m,\u001b[0m\u001b[0my\u001b[0m \u001b[0;32min\u001b[0m \u001b[0mdata_iter\u001b[0m\u001b[0;34m(\u001b[0m\u001b[0mb_size\u001b[0m\u001b[0;34m,\u001b[0m\u001b[0mfeatures\u001b[0m\u001b[0;34m,\u001b[0m\u001b[0mlabels\u001b[0m\u001b[0;34m)\u001b[0m\u001b[0;34m:\u001b[0m\u001b[0;34m\u001b[0m\u001b[0;34m\u001b[0m\u001b[0m\n\u001b[1;32m     10\u001b[0m         \u001b[0;31m#计算损失函数\u001b[0m\u001b[0;34m\u001b[0m\u001b[0;34m\u001b[0m\u001b[0;34m\u001b[0m\u001b[0m\n\u001b[0;32m---> 11\u001b[0;31m         \u001b[0ml\u001b[0m \u001b[0;34m=\u001b[0m \u001b[0mloss\u001b[0m\u001b[0;34m(\u001b[0m\u001b[0mnet\u001b[0m\u001b[0;34m(\u001b[0m\u001b[0mx\u001b[0m\u001b[0;34m,\u001b[0m\u001b[0mw\u001b[0m\u001b[0;34m,\u001b[0m\u001b[0mb\u001b[0m\u001b[0;34m)\u001b[0m\u001b[0;34m,\u001b[0m\u001b[0my\u001b[0m\u001b[0;34m)\u001b[0m\u001b[0;34m\u001b[0m\u001b[0;34m\u001b[0m\u001b[0m\n\u001b[0m\u001b[1;32m     12\u001b[0m         \u001b[0ml\u001b[0m\u001b[0;34m.\u001b[0m\u001b[0msum\u001b[0m\u001b[0;34m(\u001b[0m\u001b[0;34m)\u001b[0m\u001b[0;34m.\u001b[0m\u001b[0mbackward\u001b[0m\u001b[0;34m(\u001b[0m\u001b[0;34m)\u001b[0m\u001b[0;34m\u001b[0m\u001b[0;34m\u001b[0m\u001b[0m\n\u001b[1;32m     13\u001b[0m         \u001b[0msgd\u001b[0m\u001b[0;34m(\u001b[0m\u001b[0;34m[\u001b[0m\u001b[0mw\u001b[0m\u001b[0;34m,\u001b[0m \u001b[0mb\u001b[0m\u001b[0;34m]\u001b[0m\u001b[0;34m,\u001b[0m \u001b[0mlr\u001b[0m\u001b[0;34m,\u001b[0m \u001b[0mb_size\u001b[0m\u001b[0;34m)\u001b[0m\u001b[0;34m\u001b[0m\u001b[0;34m\u001b[0m\u001b[0m\n",
            "\u001b[0;32m<ipython-input-7-6ab67aa2975d>\u001b[0m in \u001b[0;36mlinreg\u001b[0;34m(x, w, b)\u001b[0m\n\u001b[1;32m      1\u001b[0m \u001b[0;32mdef\u001b[0m \u001b[0mlinreg\u001b[0m\u001b[0;34m(\u001b[0m\u001b[0mx\u001b[0m\u001b[0;34m,\u001b[0m\u001b[0mw\u001b[0m\u001b[0;34m,\u001b[0m\u001b[0mb\u001b[0m\u001b[0;34m,\u001b[0m\u001b[0;34m)\u001b[0m\u001b[0;34m:\u001b[0m\u001b[0;34m\u001b[0m\u001b[0;34m\u001b[0m\u001b[0m\n\u001b[0;32m----> 2\u001b[0;31m     \u001b[0;32mreturn\u001b[0m \u001b[0mtorch\u001b[0m\u001b[0;34m.\u001b[0m\u001b[0mmatmul\u001b[0m\u001b[0;34m(\u001b[0m\u001b[0mx\u001b[0m\u001b[0;34m,\u001b[0m\u001b[0mw\u001b[0m\u001b[0;34m)\u001b[0m \u001b[0;34m+\u001b[0m \u001b[0mb\u001b[0m\u001b[0;34m\u001b[0m\u001b[0;34m\u001b[0m\u001b[0m\n\u001b[0m",
            "\u001b[0;31mTypeError\u001b[0m: matmul(): argument 'input' (position 1) must be Tensor, not numpy.ndarray"
          ]
        }
      ]
    }
  ]
}